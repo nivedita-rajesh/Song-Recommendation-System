{
  "cells": [
    {
      "cell_type": "markdown",
      "metadata": {
        "id": "view-in-github"
      },
      "source": [
        "<a href=\"https://colab.research.google.com/github/nivedita-rajesh/Song-Reccomendation-System/blob/main/Song_Recommender.ipynb\" target=\"_parent\"><img src=\"https://colab.research.google.com/assets/colab-badge.svg\" alt=\"Open In Colab\"/></a>"
      ]
    },
    {
      "cell_type": "markdown",
      "metadata": {
        "id": "X1gJYzPZYHS6"
      },
      "source": [
        "# Music Recommender System using Apache Spark and Python"
      ]
    },
    {
      "cell_type": "markdown",
      "metadata": {
        "id": "2N2-fKfPYHTQ"
      },
      "source": [
        "## Necessary Package Imports"
      ]
    },
    {
      "cell_type": "code",
      "execution_count": 1,
      "metadata": {
        "colab": {
          "base_uri": "https://localhost:8080/"
        },
        "id": "VIds5XS8U5UD",
        "outputId": "5b7bb3b3-d3d8-4a28-edac-373b1d6055f7"
      },
      "outputs": [
        {
          "output_type": "stream",
          "name": "stdout",
          "text": [
            "Looking in indexes: https://pypi.org/simple, https://us-python.pkg.dev/colab-wheels/public/simple/\n",
            "Collecting pyspark\n",
            "  Downloading pyspark-3.2.1.tar.gz (281.4 MB)\n",
            "\u001b[K     |████████████████████████████████| 281.4 MB 34 kB/s \n",
            "\u001b[?25hCollecting py4j==0.10.9.3\n",
            "  Downloading py4j-0.10.9.3-py2.py3-none-any.whl (198 kB)\n",
            "\u001b[K     |████████████████████████████████| 198 kB 51.2 MB/s \n",
            "\u001b[?25hBuilding wheels for collected packages: pyspark\n",
            "  Building wheel for pyspark (setup.py) ... \u001b[?25l\u001b[?25hdone\n",
            "  Created wheel for pyspark: filename=pyspark-3.2.1-py2.py3-none-any.whl size=281853642 sha256=98a0332f0e9082df303d3ffde084a9d5486f3fb19958a414dc7e6a61ed7ca5c3\n",
            "  Stored in directory: /root/.cache/pip/wheels/9f/f5/07/7cd8017084dce4e93e84e92efd1e1d5334db05f2e83bcef74f\n",
            "Successfully built pyspark\n",
            "Installing collected packages: py4j, pyspark\n",
            "Successfully installed py4j-0.10.9.3 pyspark-3.2.1\n"
          ]
        }
      ],
      "source": [
        "!pip install pyspark"
      ]
    },
    {
      "cell_type": "markdown",
      "metadata": {
        "id": "wJwYmFjOYHTY"
      },
      "source": [
        "## Loading data"
      ]
    },
    {
      "cell_type": "code",
      "execution_count": 2,
      "metadata": {
        "id": "d3_F7Y5WbCdt"
      },
      "outputs": [],
      "source": [
        "from pyspark import SparkContext\n",
        "sc = SparkContext()"
      ]
    },
    {
      "cell_type": "markdown",
      "metadata": {
        "id": "2zCVl4n-SgBn"
      },
      "source": [
        "## MapReduce"
      ]
    },
    {
      "cell_type": "code",
      "source": [
        "import random\n",
        "lst=[]\n",
        "genre=set()\n",
        "with open(\"song.txt\", \"r\") as file1:\n",
        "    lines= file1.readlines()\n",
        "\n",
        "for line in lines:\n",
        "    lst.append(line.strip().replace('\"',\"\").split(\";\"))\n",
        "\n",
        "\n",
        "random.shuffle(lines)\n",
        "lines = lines[50]\n",
        "random.shuffle(lst)\n",
        "lst=lst[1:51]\n",
        "\n",
        "for record in lst:\n",
        "  #print(record[-1])\n",
        "  genre.add(record[-1])\n",
        "# print(lst[:10])\n",
        "print(genre)"
      ],
      "metadata": {
        "id": "Wr7qmUzBe7Qv"
      },
      "execution_count": null,
      "outputs": []
    },
    {
      "cell_type": "code",
      "source": [
        "file2=open('new.txt','a')\n",
        "for track in lst :\n",
        "  genre = track[-1]\n",
        "  if(genre in ['tone' ,'wonky',\"modern classical\",\"deep liquid\", \"bounce\", \"metal\", \"australian dance\", \"lo-fi\"]):\n",
        "    track.append('angry')\n",
        "    file2.write(str(track)+\"\\n\")\n",
        "\n",
        "  elif(\"pop\" in genre or genre in [\"spanish hip hop\",\"salsa\"]  or \"rock\" in genre or \"metal\" in genre):\n",
        "    track.append('happy')\n",
        "    file2.write(str(track)+\"\\n\")\n",
        "  \n",
        "  elif(genre in ['anime', \"comedy rock\" ,\"boogie woogie\",\"bubblegum dance\",\"preverb\", \"chicago soul\", \"alternative emo\", \"pop emo\"]):\n",
        "    track.append('sad')\n",
        "    file2.write(str(track)+\"\\n\")\n",
        "\n",
        "  elif(genre in [\"edm\", \"composition d\", \"cool jazz\", \"christian music\", \"video game music\"]):\n",
        "    track.append(\"neutral\")\n",
        "    file2.write(str(track)+\"\\n\")\n",
        "\n"
      ],
      "metadata": {
        "id": "o9DeV4UWenXL"
      },
      "execution_count": null,
      "outputs": []
    },
    {
      "cell_type": "code",
      "execution_count": 60,
      "metadata": {
        "id": "a3u5y_THUB0l"
      },
      "outputs": [],
      "source": [
        "#read from the user's listen history\n",
        "redundant_lst= [['3rMyMv8EjKXoPnaRo2hdJN', \"Stuntin' Like My Daddy - Street\", 'Birdman, Lil Wayne', '5', 'pop rap','happy'],\n",
        "['6lV2MSQmRIkycDScNtrBXO', 'Airplanes (feat. Hayley Williams of Paramore)', 'B.o.B, Hayley Williams', '1', 'pop rap','happy'],\n",
        "['4hrae8atte6cRlSC9a7VCO', 'Always On Time', 'Ja Rule, Ashanti', '2', 'pop rap','happy'],\n",
        "['03tqyYWC9Um2ZqU0ZN849H', 'No Hands [feat. Roscoe Dash and Wale]', 'Waka Flocka Flame', '3', 'pop rap','happy'],\n",
        "['66TRwr5uJwPt15pfFkzhbi', 'Crank That (Soulja Boy)', 'Soulja Boy', '4', 'pop rap','angry'],\n",
        "['6t2ubAB4iSYOuIpRAOGd4t', 'Cake', 'Flo Rida, 99 Percent', '8', 'pop rap','happy'],\n",
        "['6t2ubAB4iSYOuIpRAOGd4t', 'Cake', 'Flo Rida, 99 Percent', '8', 'pop rap','happy'],\n",
        "['66TRwr5uJwPt15mfFkzhbi', 'Crank That (Soulja Boy)', 'Soulja Boy', '4', 'pop rap','happy'],\n",
        "['66TRwr5uJwPt15mfFqzhbi', 'Crank That (Soulja Boy)', 'Soulja Boy', '4', 'pop rap','angry'],\n",
        "['66TRwr5uJwPt15mfFkzhbi', 'Crank That (Soulja Boy)', 'Soulja Boy', '4', 'pop rap','happy'],\n",
        "['3rMyMv8EjKXoPnaRo2hlJN', \"Stuntin' Like My Daddy - Street\", 'Birdman, Lil Wayne', '5', 'pop rap','neutral'],\n",
        "['3rMyMv8EjKXoPnaRl2hdJN', \"Stuntin' Like My Daddy - Street\", 'Birdman, Lil Wayne', '5', 'pop rap','angry'],\n",
        "['3rMyMv8EjKXoPnaRo2hdJN', \"Stuntin' Like My Daddy - Street\", 'Birdman, Lil Wayne', '5', 'pop rap','happy'],\n",
        "['7wqSzGeodspE3V6RBD5W8L', 'See You Again (feat. Charlie Puth)', 'Wiz Khalifa, Charlie Puth', '7', 'pop rap','happy'],\n",
        "['6t2ubAB4iSYOuIpRAOGd4t', 'Cake', 'Flo Rida, 99 Percent', '8', 'pop rap','happy'],\n",
        "['5IZc3KIVFhjzJ0L2kiXzUl', 'Promise', 'Kid Ink, Fetty Wap', '9', 'pop rap','happy'],\n",
        "['3B7i9OKRRmIsSBHEbJz58Y', 'Grind With Me', 'Pretty Ricky', '10', 'pop rap','happy'],\n",
        "['3tvWMBIblzT5FSjKtIeRR1', 'Whatever You Like', 'T.I.', '11', 'pop rap','happy'],\n",
        "['1hWYT0w2R0J19rlVkiez7X', 'Battle Scars', 'Lupe Fiasco, Guy Sebastian', '12', 'pop rap','happy'],\n",
        "['14B2bUopOga5V3ypld7d6n', 'Suga Suga', 'Baby Bash, Frankie J', '13', 'pop rap','happy'],\n",
        "['3B7i9OKRRmIsSBHEbJz58Y', 'Grind With Me', 'Pretty Ricky', '10', 'pop rap','happy'],\n",
        "['3B7i9OKRRmIsSBHEbJz58Y', 'Grind With Me', 'Pretty Ricky', '10', 'pop rap','happy'],\n",
        "['14B2bUopOga5V3ypld7d6n', 'Suga Suga', 'Baby Bash, Frankie J', '13', 'pop rap','happy'],\n",
        "['14B2bUopOga5V3ypld7dwn', 'SugewedSa', 'BabwrBash, Frankie J', '5', 'pop rap','sad'],\n",
        "['14B2pUopOga5V3ypld7d6n', 'Suga Suga', 'Baby Bash, Frankie J', '13', 'pop rap','angry'],\n",
        "['66TRwr5uJwPt15mfFkzhbi', 'Crank That (Soulja Boy)', 'Soulja Boy', '4', 'pop rap','happy']\n",
        "]\n",
        "\n",
        "redundant_lst\n",
        "\n",
        "with open('dummy.txt','a') as f:\n",
        "  for i in redundant_lst:\n",
        "    f.write(str(i)+\"\\n\")\n"
      ]
    },
    {
      "cell_type": "code",
      "execution_count": 61,
      "metadata": {
        "id": "vAAx2PcZMQvA"
      },
      "outputs": [],
      "source": [
        "from pyspark.sql import SparkSession\n",
        "\n",
        "dataset = sc.textFile(\"dataset.txt\")\n",
        "a = dataset.map(lambda x:(x,1)).reduceByKey(lambda x,y : x + y).collect()\n",
        "\n",
        "fin_list = []\n",
        "\n",
        "for i in a:\n",
        "\n",
        "  res = i[0].strip('][').replace(\"'\",\"\").split(', ') \n",
        "  if res[-3].isdigit():\n",
        "    ans = \"&\".join(res[2:-2])\n",
        "\n",
        "    while(not res[3].isdigit()):\n",
        "      del res[3]\n",
        "    res[2] = ans\n",
        "\n",
        "  res.append(i[1])\n",
        "  fin_list.append(res)"
      ]
    },
    {
      "cell_type": "code",
      "source": [
        "rdd = sc.parallelize(fin_list)\n",
        "spark = SparkSession(sc)\n",
        "\n",
        "print(\"Filtered Dataset\")\n",
        "schema = [\"spotify_id\",\"title\",\"artist(s)\",\"popularity\",\"genre\", \"emotion\", \"count\"]\n",
        "\n",
        "rdd.toDF(schema).show()"
      ],
      "metadata": {
        "colab": {
          "base_uri": "https://localhost:8080/"
        },
        "id": "gpmoqjqFitgP",
        "outputId": "8258ff65-f945-43c5-93bd-2eae99ca8ef7"
      },
      "execution_count": 62,
      "outputs": [
        {
          "output_type": "stream",
          "name": "stdout",
          "text": [
            "Filtered Dataset\n",
            "+--------------------+--------------------+--------------------+----------+-------+-------+-----+\n",
            "|          spotify_id|               title|           artist(s)|popularity|  genre|emotion|count|\n",
            "+--------------------+--------------------+--------------------+----------+-------+-------+-----+\n",
            "|3rMyMv8EjKXoPnaRo...|\"Stuntin Like My ...| Birdman&Lil Wayne&5|         5|pop rap|  happy|    2|\n",
            "|66TRwr5uJwPt15pfF...|Crank That (Soulj...|        Soulja Boy&4|         4|pop rap|  angry|    1|\n",
            "|66TRwr5uJwPt15mfF...|Crank That (Soulj...|        Soulja Boy&4|         4|pop rap|  happy|    3|\n",
            "|3rMyMv8EjKXoPnaRl...|\"Stuntin Like My ...| Birdman&Lil Wayne&5|         5|pop rap|  angry|    1|\n",
            "|3B7i9OKRRmIsSBHEb...|       Grind With Me|     Pretty Ricky&10|        10|pop rap|  happy|    3|\n",
            "|3tvWMBIblzT5FSjKt...|   Whatever You Like|             T.I.&11|        11|pop rap|  happy|    1|\n",
            "|14B2bUopOga5V3ypl...|           Suga Suga|Baby Bash&Frankie...|        13|pop rap|  happy|    2|\n",
            "|6lV2MSQmRIkycDScN...|Airplanes (feat. ...|B.o.B&Hayley Will...|         1|pop rap|  happy|    1|\n",
            "|4hrae8atte6cRlSC9...|      Always On Time|   Ja Rule&Ashanti&2|         2|pop rap|  happy|    1|\n",
            "|03tqyYWC9Um2ZqU0Z...|No Hands [feat. R...| Waka Flocka Flame&3|         3|pop rap|  happy|    1|\n",
            "|6t2ubAB4iSYOuIpRA...|                Cake|Flo Rida&99 Perce...|         8|pop rap|  happy|    3|\n",
            "|66TRwr5uJwPt15mfF...|Crank That (Soulj...|        Soulja Boy&4|         4|pop rap|  angry|    1|\n",
            "|3rMyMv8EjKXoPnaRo...|\"Stuntin Like My ...| Birdman&Lil Wayne&5|         5|pop rap|neutral|    1|\n",
            "|7wqSzGeodspE3V6RB...|See You Again (fe...|Wiz Khalifa&Charl...|         7|pop rap|  happy|    1|\n",
            "|5IZc3KIVFhjzJ0L2k...|             Promise| Kid Ink&Fetty Wap&9|         9|pop rap|  happy|    1|\n",
            "|1hWYT0w2R0J19rlVk...|        Battle Scars|Lupe Fiasco&Guy S...|        12|pop rap|  happy|    1|\n",
            "|14B2bUopOga5V3ypl...|           SugewedSa|BabwrBash&Frankie...|         5|pop rap|    sad|    1|\n",
            "|14B2pUopOga5V3ypl...|           Suga Suga|Baby Bash&Frankie...|        13|pop rap|  angry|    1|\n",
            "+--------------------+--------------------+--------------------+----------+-------+-------+-----+\n",
            "\n"
          ]
        }
      ]
    },
    {
      "cell_type": "code",
      "source": [
        "rdd=rdd.filter(lambda x: x[-2]==\"happy\")\n",
        "rdd.toDF(schema).show()\n"
      ],
      "metadata": {
        "colab": {
          "base_uri": "https://localhost:8080/"
        },
        "id": "EFjRoHDXjYvk",
        "outputId": "70372714-9efc-4210-b8d1-9b93db1d72fe"
      },
      "execution_count": 63,
      "outputs": [
        {
          "output_type": "stream",
          "name": "stdout",
          "text": [
            "+--------------------+--------------------+--------------------+----------+-------+-------+-----+\n",
            "|          spotify_id|               title|           artist(s)|popularity|  genre|emotion|count|\n",
            "+--------------------+--------------------+--------------------+----------+-------+-------+-----+\n",
            "|3rMyMv8EjKXoPnaRo...|\"Stuntin Like My ...| Birdman&Lil Wayne&5|         5|pop rap|  happy|    2|\n",
            "|66TRwr5uJwPt15mfF...|Crank That (Soulj...|        Soulja Boy&4|         4|pop rap|  happy|    3|\n",
            "|3B7i9OKRRmIsSBHEb...|       Grind With Me|     Pretty Ricky&10|        10|pop rap|  happy|    3|\n",
            "|3tvWMBIblzT5FSjKt...|   Whatever You Like|             T.I.&11|        11|pop rap|  happy|    1|\n",
            "|14B2bUopOga5V3ypl...|           Suga Suga|Baby Bash&Frankie...|        13|pop rap|  happy|    2|\n",
            "|6lV2MSQmRIkycDScN...|Airplanes (feat. ...|B.o.B&Hayley Will...|         1|pop rap|  happy|    1|\n",
            "|4hrae8atte6cRlSC9...|      Always On Time|   Ja Rule&Ashanti&2|         2|pop rap|  happy|    1|\n",
            "|03tqyYWC9Um2ZqU0Z...|No Hands [feat. R...| Waka Flocka Flame&3|         3|pop rap|  happy|    1|\n",
            "|6t2ubAB4iSYOuIpRA...|                Cake|Flo Rida&99 Perce...|         8|pop rap|  happy|    3|\n",
            "|7wqSzGeodspE3V6RB...|See You Again (fe...|Wiz Khalifa&Charl...|         7|pop rap|  happy|    1|\n",
            "|5IZc3KIVFhjzJ0L2k...|             Promise| Kid Ink&Fetty Wap&9|         9|pop rap|  happy|    1|\n",
            "|1hWYT0w2R0J19rlVk...|        Battle Scars|Lupe Fiasco&Guy S...|        12|pop rap|  happy|    1|\n",
            "+--------------------+--------------------+--------------------+----------+-------+-------+-----+\n",
            "\n"
          ]
        }
      ]
    },
    {
      "cell_type": "code",
      "execution_count": 70,
      "metadata": {
        "colab": {
          "base_uri": "https://localhost:8080/"
        },
        "id": "PqziTt4Up1rR",
        "outputId": "db5ba4ab-88a6-44cc-b8cb-55691d3c4d0b"
      },
      "outputs": [
        {
          "output_type": "stream",
          "name": "stdout",
          "text": [
            "Sorted Dataset\n",
            "+--------------------+--------------------+--------------------+----------+-------+-------+-----+\n",
            "|          spotify_id|               title|           artist(s)|popularity|  genre|emotion|count|\n",
            "+--------------------+--------------------+--------------------+----------+-------+-------+-----+\n",
            "|66TRwr5uJwPt15mfF...|Crank That (Soulj...|        Soulja Boy&4|         4|pop rap|  happy|    3|\n",
            "|3B7i9OKRRmIsSBHEb...|       Grind With Me|     Pretty Ricky&10|        10|pop rap|  happy|    3|\n",
            "|6t2ubAB4iSYOuIpRA...|                Cake|Flo Rida&99 Perce...|         8|pop rap|  happy|    3|\n",
            "|3rMyMv8EjKXoPnaRo...|\"Stuntin Like My ...| Birdman&Lil Wayne&5|         5|pop rap|  happy|    2|\n",
            "|14B2bUopOga5V3ypl...|           Suga Suga|Baby Bash&Frankie...|        13|pop rap|  happy|    2|\n",
            "|3tvWMBIblzT5FSjKt...|   Whatever You Like|             T.I.&11|        11|pop rap|  happy|    1|\n",
            "|6lV2MSQmRIkycDScN...|Airplanes (feat. ...|B.o.B&Hayley Will...|         1|pop rap|  happy|    1|\n",
            "|4hrae8atte6cRlSC9...|      Always On Time|   Ja Rule&Ashanti&2|         2|pop rap|  happy|    1|\n",
            "|03tqyYWC9Um2ZqU0Z...|No Hands [feat. R...| Waka Flocka Flame&3|         3|pop rap|  happy|    1|\n",
            "|7wqSzGeodspE3V6RB...|See You Again (fe...|Wiz Khalifa&Charl...|         7|pop rap|  happy|    1|\n",
            "|5IZc3KIVFhjzJ0L2k...|             Promise| Kid Ink&Fetty Wap&9|         9|pop rap|  happy|    1|\n",
            "|1hWYT0w2R0J19rlVk...|        Battle Scars|Lupe Fiasco&Guy S...|        12|pop rap|  happy|    1|\n",
            "+--------------------+--------------------+--------------------+----------+-------+-------+-----+\n",
            "\n"
          ]
        }
      ],
      "source": [
        "print(\"Sorted Dataset\")\n",
        "\n",
        "rdd = rdd.sortBy(lambda x:x[-1], ascending=False)\n",
        "rdd.toDF(schema).show()\n"
      ]
    },
    {
      "cell_type": "code",
      "source": [
        "k=5\n",
        "top_k = rdd.take(k)\n",
        "\n",
        "for song in top_k:\n",
        "  print(f\"{song[1]} by {song[2]} has a popularity of {song[3]}. You have listened to it {song[-1]} time(s)\")\n",
        "  print(f\"Listen song at https://open.spotify.com/track/{song[0]}\")\n",
        "  print()"
      ],
      "metadata": {
        "colab": {
          "base_uri": "https://localhost:8080/"
        },
        "id": "uRTvhmqCcJZR",
        "outputId": "10a7db4b-7a88-40ea-d232-8e216f1de379"
      },
      "execution_count": 69,
      "outputs": [
        {
          "output_type": "stream",
          "name": "stdout",
          "text": [
            "Crank That (Soulja Boy) by Soulja Boy&4 has a popularity of 4. You have listened to it 3 time(s)\n",
            "Listen song at https://open.spotify.com/track/66TRwr5uJwPt15mfFkzhbi\n",
            "\n",
            "Grind With Me by Pretty Ricky&10 has a popularity of 10. You have listened to it 3 time(s)\n",
            "Listen song at https://open.spotify.com/track/3B7i9OKRRmIsSBHEbJz58Y\n",
            "\n",
            "Cake by Flo Rida&99 Percent&8 has a popularity of 8. You have listened to it 3 time(s)\n",
            "Listen song at https://open.spotify.com/track/6t2ubAB4iSYOuIpRAOGd4t\n",
            "\n",
            "\"Stuntin Like My Daddy - Street\" by Birdman&Lil Wayne&5 has a popularity of 5. You have listened to it 2 time(s)\n",
            "Listen song at https://open.spotify.com/track/3rMyMv8EjKXoPnaRo2hdJN\n",
            "\n",
            "Suga Suga by Baby Bash&Frankie J&13 has a popularity of 13. You have listened to it 2 time(s)\n",
            "Listen song at https://open.spotify.com/track/14B2bUopOga5V3ypld7d6n\n",
            "\n"
          ]
        }
      ]
    }
  ],
  "metadata": {
    "colab": {
      "collapsed_sections": [],
      "name": "Song_Recommender.ipynb",
      "provenance": []
    },
    "kernelspec": {
      "display_name": "Python 3",
      "name": "python3"
    },
    "language_info": {
      "name": "python"
    }
  },
  "nbformat": 4,
  "nbformat_minor": 0
}