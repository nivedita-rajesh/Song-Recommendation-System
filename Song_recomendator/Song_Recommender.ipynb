{
  "cells": [
    {
      "cell_type": "markdown",
      "metadata": {
        "id": "view-in-github"
      },
      "source": [
        "<a href=\"https://colab.research.google.com/github/nivedita-rajesh/Song-Reccomendation-System/blob/main/Song_Recommender.ipynb\" target=\"_parent\"><img src=\"https://colab.research.google.com/assets/colab-badge.svg\" alt=\"Open In Colab\"/></a>"
      ]
    },
    {
      "cell_type": "markdown",
      "metadata": {
        "id": "X1gJYzPZYHS6"
      },
      "source": [
        "# Music Recommender System using Apache Spark and Python\n",
        "\n",
        "Spark is an open-source cluster computing framework. It is used to handle real-time generated data. It is built on top on Hadoop MapReduce. It is found to be quicker than most of the alternatives."
      ]
    },
    {
      "cell_type": "markdown",
      "metadata": {
        "id": "2N2-fKfPYHTQ"
      },
      "source": [
        "## Necessary Package Imports"
      ]
    },
    {
      "cell_type": "code",
      "execution_count": 1,
      "metadata": {
        "colab": {
          "base_uri": "https://localhost:8080/"
        },
        "id": "VIds5XS8U5UD",
        "outputId": "93915ea9-8616-4390-897d-9214c03d90c1"
      },
      "outputs": [
        {
          "output_type": "stream",
          "name": "stdout",
          "text": [
            "Looking in indexes: https://pypi.org/simple, https://us-python.pkg.dev/colab-wheels/public/simple/\n",
            "Collecting pyspark\n",
            "  Downloading pyspark-3.2.1.tar.gz (281.4 MB)\n",
            "\u001b[K     |████████████████████████████████| 281.4 MB 34 kB/s \n",
            "\u001b[?25hCollecting py4j==0.10.9.3\n",
            "  Downloading py4j-0.10.9.3-py2.py3-none-any.whl (198 kB)\n",
            "\u001b[K     |████████████████████████████████| 198 kB 54.3 MB/s \n",
            "\u001b[?25hBuilding wheels for collected packages: pyspark\n",
            "  Building wheel for pyspark (setup.py) ... \u001b[?25l\u001b[?25hdone\n",
            "  Created wheel for pyspark: filename=pyspark-3.2.1-py2.py3-none-any.whl size=281853642 sha256=49af0e3edf987ec608ee8a0353c5af276f4c40e42f75ac81997e727cb11590ce\n",
            "  Stored in directory: /root/.cache/pip/wheels/9f/f5/07/7cd8017084dce4e93e84e92efd1e1d5334db05f2e83bcef74f\n",
            "Successfully built pyspark\n",
            "Installing collected packages: py4j, pyspark\n",
            "Successfully installed py4j-0.10.9.3 pyspark-3.2.1\n"
          ]
        }
      ],
      "source": [
        "!pip install pyspark"
      ]
    },
    {
      "cell_type": "markdown",
      "metadata": {
        "id": "wJwYmFjOYHTY"
      },
      "source": [
        "## Loading data\n",
        "\n",
        "A SparkContext represents the connection to a Spark cluster, and can be used to create RDDs, accumulators and broadcast variables on that cluster. "
      ]
    },
    {
      "cell_type": "code",
      "execution_count": 2,
      "metadata": {
        "id": "d3_F7Y5WbCdt"
      },
      "outputs": [],
      "source": [
        "from pyspark import SparkContext\n",
        "sc = SparkContext()"
      ]
    },
    {
      "cell_type": "markdown",
      "source": [
        "## Getting the Emotion\n",
        "\n",
        "The result obtained from the speech emotion recogniser is fed here so that the songs that goes well with the mood are played."
      ],
      "metadata": {
        "id": "iffFuUV3lv6q"
      }
    },
    {
      "cell_type": "code",
      "source": [
        "MOOD = input(\"The emotion detected from the voice is: \")"
      ],
      "metadata": {
        "colab": {
          "base_uri": "https://localhost:8080/"
        },
        "id": "Vjd9EeFOlza0",
        "outputId": "c83f0ca1-cdd7-4c23-d7e7-fe0b2dd523fc"
      },
      "execution_count": 3,
      "outputs": [
        {
          "name": "stdout",
          "output_type": "stream",
          "text": [
            "The emotion detected from the voice is: sad\n"
          ]
        }
      ]
    },
    {
      "cell_type": "markdown",
      "metadata": {
        "id": "2zCVl4n-SgBn"
      },
      "source": [
        "## Loading Data\n",
        "The song dataset is read into a RDD and each record is cleaned."
      ]
    },
    {
      "cell_type": "code",
      "source": [
        "# Read file into RDD\n",
        "lines = sc.textFile(\"song.txt\")\n",
        "\n",
        "# Call collect() to get all data into a list - removing the first header line \n",
        "llist = lines.collect()[1:]\n",
        "\n",
        "lst=[]\n",
        "for line in llist:\n",
        "  lst.append(line.strip().replace('\"',\"\").split(\";\"))\n"
      ],
      "metadata": {
        "id": "BLzRUWp4H9ND"
      },
      "execution_count": null,
      "outputs": []
    },
    {
      "cell_type": "markdown",
      "source": [
        "Now that we got the complete dataset cleaned, we assign each emotion to every song based on the genre. This data is written to the dataset text file and will be used for further processing."
      ],
      "metadata": {
        "id": "ie5GU2netjmM"
      }
    },
    {
      "cell_type": "code",
      "source": [
        "file=open('dataset.txt','a')\n",
        "for track in lst :\n",
        "\n",
        "  if 'spotify_id' in track:\n",
        "    continue\n",
        "  genre = track[-1]\n",
        "  if(genre in ['tone' ,'wonky',\"modern classical\",\"deep liquid\", \"bounce\", \"metal\", \"australian dance\", \"lo-fi\",\"trap music\", \"soundtrack\", \"chillwave\"]):\n",
        "    track.append('angry')\n",
        "    file.write(str(track)+\"\\n\")\n",
        "  \n",
        "  elif(genre in ['anime', \"comedy rock\" ,\"boogie woogie\",\"bubblegum dance\",\"preverb\", \"chicago soul\", \"alternative emo\", \"pop emo\", \"downtempo\",\"worship\",\"compositional ambient\"]):\n",
        "    track.append('sad')\n",
        "    file.write(str(track)+\"\\n\")\n",
        "\n",
        "  elif(\"pop\" in genre or genre in [\"spanish hip hop\",\"salsa\"]  or \"rock\" in genre or \"metal\" in genre or \"funk\" in genre):\n",
        "    track.append('happy')\n",
        "    file.write(str(track)+\"\\n\")\n",
        "\n",
        "  else:\n",
        "    track.append(\"neutral\")\n",
        "    file.write(str(track)+\"\\n\")\n",
        "\n"
      ],
      "metadata": {
        "id": "o9DeV4UWenXL"
      },
      "execution_count": 39,
      "outputs": []
    },
    {
      "cell_type": "markdown",
      "source": [
        "`user_history.txt` is a file that contains the songs that a user has listened to. Every time a user listens to a song, its metadata is being appended to the txt file. Hence, if a user listens to a song more than once, the file will have repeated records.\n",
        "\n",
        "The cell below is a simulation of a user listening to a song."
      ],
      "metadata": {
        "id": "JXlBaBidt4Xe"
      }
    },
    {
      "cell_type": "code",
      "execution_count": 90,
      "metadata": {
        "id": "a3u5y_THUB0l"
      },
      "outputs": [],
      "source": [
        "import random\n",
        "user_lst=[]\n",
        "\n",
        "datasetRdd = sc.textFile('dataset.txt')\n",
        "datasetList =(datasetRdd.collect())\n",
        "random.shuffle(datasetList)\n",
        "\n",
        "num_songs=0\n",
        "with open('user_history.txt','w') as f:\n",
        "  while num_songs <20:\n",
        "    rand_int = random.randint(0,datasetRdd.count())\n",
        "    num_songs+=1\n",
        "    for _ in range(0,35):\n",
        "      #user listening to this song\n",
        "      f.write(str(random.choice(datasetList[rand_int:rand_int+20])+\"\\n\"))"
      ]
    },
    {
      "cell_type": "markdown",
      "source": [
        "## MapReduce\n",
        "\n",
        "The typical map reduce is implemented here.\n",
        "First, each metadata is made into a tuple with second element as 1 to show the count. The output of the map function is of the form (record,1). \n",
        "Then, we reduce the data using `reduceByKey` function - the output will have unique keys, with values being the count or the number of times the user has listened to the song - (record, count)"
      ],
      "metadata": {
        "id": "YiMCl0GsliWU"
      }
    },
    {
      "cell_type": "code",
      "execution_count": 76,
      "metadata": {
        "id": "vAAx2PcZMQvA"
      },
      "outputs": [],
      "source": [
        "dataset = sc.textFile(\"user_history.txt\")\n",
        "a = dataset.map(lambda x:(x,1)).reduceByKey(lambda x,y : x + y).collect()\n",
        "\n",
        "fin_list = []\n",
        "\n",
        "for i in a[1:]:\n",
        "\n",
        "  # data from file is string\n",
        "  # converting list-like string to list\n",
        "  res = i[0].strip('][').replace(\"'\",\"\").split(', ') \n",
        "\n",
        "  if(len(res)<4):\n",
        "    #removing data having wrong schema\n",
        "    continue\n",
        "  \n",
        "  # when there are multiple artists for a song separated by comma, the rdd considers the comma as a column delimiter.\n",
        "  # so, we replace the comma in between the artists' names and replace it with &\n",
        "  # this code works with any number of artists\n",
        "  if res[-3].isdigit():\n",
        "    ans = \"&\".join(res[2:-2])\n",
        "\n",
        "    while(not res[3].isdigit()):\n",
        "      del res[3]\n",
        "    res[2] = ans\n",
        "\n",
        "  res.append(i[1])\n",
        "\n",
        "  # another filter to remove all the invalid schema\n",
        "  if (len(res)==7):\n",
        "    fin_list.append(res)"
      ]
    },
    {
      "cell_type": "code",
      "source": [
        "from pyspark.sql import SparkSession\n",
        "from pyspark.sql.functions import rand \n",
        "\n",
        "# converting fin_list to rdd\n",
        "rdd = sc.parallelize(fin_list)\n",
        "spark = SparkSession(sc)\n",
        "\n",
        "print(\"Actual Dataset\")\n",
        "#the column names\n",
        "schema = [\"spotify_id\",\"title\",\"artist(s)\",\"popularity\",\"genre\", \"emotion\", \"count\"]\n",
        "# shuffling\n",
        "rdd.toDF(schema).orderBy(rand()).show()"
      ],
      "metadata": {
        "colab": {
          "base_uri": "https://localhost:8080/"
        },
        "id": "gpmoqjqFitgP",
        "outputId": "02c77738-5e4e-427a-d32b-4301caf15679"
      },
      "execution_count": 91,
      "outputs": [
        {
          "output_type": "stream",
          "name": "stdout",
          "text": [
            "Actual Dataset\n",
            "+--------------------+--------------------+--------------------+----------+--------------------+-------+-----+\n",
            "|          spotify_id|               title|           artist(s)|popularity|               genre|emotion|count|\n",
            "+--------------------+--------------------+--------------------+----------+--------------------+-------+-----+\n",
            "|4RG9Ulx2XrTg2achB...|           Lucky You|The Lightning See...|         5|             britpop|  happy|    3|\n",
            "|5qk1xXcERl8RW645z...|    Rebellion (Lies)|     Arcade Fire&171|       171|        canadian pop|  happy|    1|\n",
            "|5eo4Fjw9duI5NbvSR...|Pra de Pé Me Apla...|        Mc Danado&40|        40|   deep funk carioca|  happy|    2|\n",
            "|4kgD89hUKCdmnSlPO...|            Me Again|         J Mascis&64|        64|               lo-fi|  angry|    3|\n",
            "|4LrOmj6MoxMdCLf2z...|Murder On The Dan...|Sophie Ellis-Bext...|       101|        new wave pop|  happy|    2|\n",
            "|1pWscEL17ssjbKXIS...|           On My Way|Tiësto&Bright Spa...|        12|                 edm|neutral|    2|\n",
            "|5xXyhoUfv3T2geQRr...|              Ground|    Celtic Frost&182|       182|        groove metal|  happy|    3|\n",
            "|2rZlhglDjqSU8HfcZ...|             Matador|Swift Guad&Mani D...|       144|       trap francais|neutral|    2|\n",
            "|1engbDJQ7UNLnDv4E...|     Jekyll And Hyde|Jonathan Thulin&R...|       106|christian alterna...|  happy|    5|\n",
            "|5jOU5mrSYFnD4Ns1j...|Dulcemente Enamorada|        Los Mier&113|       113|             norteno|neutral|    2|\n",
            "|0cnoQyMcZXsYEtOF4...|        Golden Brown|          Bedhead&61|        61|         melancholia|neutral|    1|\n",
            "|7iaw359G2XT14uTfV...|             Lockjaw|French Montana&Ko...|       168|             hip hop|neutral|    2|\n",
            "|0iA1unTbTbDOWUSlb...|\"It Dont Hurt Lik...| Billy Currington&13|        13|        country road|neutral|    1|\n",
            "|5fnOrhQ4KgT5irGCj...|\"Arthurs Theme (B...|Christopher Cross...|       136|         mellow gold|neutral|    1|\n",
            "|6V6lgegjsKlcbBcJW...|      Los Dos Amigos|Los Cadetes De Li...|        27|             grupera|neutral|    1|\n",
            "|4CLZlTPjaKqbadAJc...|                Pogo|        Digitalism&4|         4|   alternative dance|neutral|    2|\n",
            "|3DlaTj7iIONgqjpk0...|         Meine Sache|        Broilers&128|       128|          german pop|  happy|    1|\n",
            "|3VS1qUm62nDLZJtxd...|    \"Round Midnight\"|     Betty Carter&14|        14|          vocal jazz|neutral|    2|\n",
            "|4xqw8JSmfNdHLCuT2...|        Last Goodbye|     Jeff Buckley&79|        79|      permanent wave|neutral|    3|\n",
            "|6Z6FeoFo2B1Dzndiu...|       Secret Weapon|          The Whip&4|         4|            new rave|neutral|    1|\n",
            "+--------------------+--------------------+--------------------+----------+--------------------+-------+-----+\n",
            "only showing top 20 rows\n",
            "\n"
          ]
        }
      ]
    },
    {
      "cell_type": "code",
      "source": [
        "print(\"The number of songs user has listened to based on genre\")\n",
        "emotions = (rdd.toDF().select('_6').rdd.flatMap(lambda x: x).collect())\n",
        "print(f'Sad: {emotions.count(\"sad\")}')\n",
        "print(f'Happy: {emotions.count(\"happy\")}')\n",
        "print(f'Neutral: {emotions.count(\"neutral\")}')\n",
        "print(f'Angry: {emotions.count(\"angry\")}')\n",
        "#to show the number of songs each emotion has"
      ],
      "metadata": {
        "id": "rls2z6elJLk-",
        "colab": {
          "base_uri": "https://localhost:8080/"
        },
        "outputId": "60e03220-64aa-4e99-ce61-3472e729b3e6"
      },
      "execution_count": 85,
      "outputs": [
        {
          "output_type": "stream",
          "name": "stdout",
          "text": [
            "The number of songs user has listened to based on genre\n",
            "Sad: 4\n",
            "Happy: 156\n",
            "Neutral: 241\n",
            "Angry: 10\n"
          ]
        }
      ]
    },
    {
      "cell_type": "markdown",
      "source": [
        "Filtering the dataset using the `MOOD` variable we got from emotion detector"
      ],
      "metadata": {
        "id": "Mfek0kHcpRx7"
      }
    },
    {
      "cell_type": "code",
      "source": [
        "print(\"Filtered Dataset\")\n",
        "#filtering based on second last element: MOOD\n",
        "rdd=rdd.filter(lambda x: x[-2]==MOOD)\n",
        "\n",
        "if(rdd.count()==0):\n",
        "  print(f\"Sorry, we could not find {MOOD} songs from your playlist\")\n",
        "else:\n",
        "  rdd.toDF(schema).orderBy(rand()).show()\n"
      ],
      "metadata": {
        "colab": {
          "base_uri": "https://localhost:8080/"
        },
        "id": "EFjRoHDXjYvk",
        "outputId": "aac7a32a-cb0e-413d-d83d-19d196d29936"
      },
      "execution_count": 92,
      "outputs": [
        {
          "output_type": "stream",
          "name": "stdout",
          "text": [
            "Filtered Dataset\n",
            "+--------------------+--------------------+------------------+----------+--------------------+-------+-----+\n",
            "|          spotify_id|               title|         artist(s)|popularity|               genre|emotion|count|\n",
            "+--------------------+--------------------+------------------+----------+--------------------+-------+-----+\n",
            "|00z9Rax2KTHqKLKYn...|Water From A Vine...|  William Orbit&68|        68|           downtempo|    sad|    2|\n",
            "|0P8ANiSwsjYPx3zrm...|             Ever Be|     Aaron Shust&8|         8|             worship|    sad|    3|\n",
            "|5S1ARzZSleRh8Vpbw...|              orange|Quentin Sirjacq&84|        84|compositional amb...|    sad|    1|\n",
            "|1l3KYsTzEKQBpkHEx...|      Missing Photos|     Last Days&124|       124|compositional amb...|    sad|    3|\n",
            "+--------------------+--------------------+------------------+----------+--------------------+-------+-----+\n",
            "\n"
          ]
        }
      ]
    },
    {
      "cell_type": "markdown",
      "source": [
        "Sorting the filtered dataset"
      ],
      "metadata": {
        "id": "xzaMD97BpcIA"
      }
    },
    {
      "cell_type": "code",
      "execution_count": 93,
      "metadata": {
        "colab": {
          "base_uri": "https://localhost:8080/"
        },
        "id": "PqziTt4Up1rR",
        "outputId": "db9aa06c-0fe4-41ad-f054-a0e7cb41e670"
      },
      "outputs": [
        {
          "output_type": "stream",
          "name": "stdout",
          "text": [
            "Sorted Dataset\n",
            "+--------------------+--------------------+------------------+----------+--------------------+-------+-----+\n",
            "|          spotify_id|               title|         artist(s)|popularity|               genre|emotion|count|\n",
            "+--------------------+--------------------+------------------+----------+--------------------+-------+-----+\n",
            "|1l3KYsTzEKQBpkHEx...|      Missing Photos|     Last Days&124|       124|compositional amb...|    sad|    3|\n",
            "|0P8ANiSwsjYPx3zrm...|             Ever Be|     Aaron Shust&8|         8|             worship|    sad|    3|\n",
            "|00z9Rax2KTHqKLKYn...|Water From A Vine...|  William Orbit&68|        68|           downtempo|    sad|    2|\n",
            "|5S1ARzZSleRh8Vpbw...|              orange|Quentin Sirjacq&84|        84|compositional amb...|    sad|    1|\n",
            "+--------------------+--------------------+------------------+----------+--------------------+-------+-----+\n",
            "\n"
          ]
        }
      ],
      "source": [
        "print(\"Sorted Dataset\")\n",
        "\n",
        "# sorting rdd based on the last element - count, in descending order\n",
        "rdd = rdd.sortBy(lambda x:x[-1], ascending=False)\n",
        "rdd.toDF(schema).show()\n"
      ]
    },
    {
      "cell_type": "markdown",
      "source": [
        "Displaying the top-k songs based on the number of times the user has listened to it. If k is greater than the number of rows of the RDD, all the elements in the RDD are printed."
      ],
      "metadata": {
        "id": "7J__HnFUpfPV"
      }
    },
    {
      "cell_type": "code",
      "source": [
        "k = int(input(\"How many songs do you want?\"))\n",
        "\n",
        "top_k = rdd.take(k)\n",
        "print(f\"Our top {rdd.count() if k>rdd.count()  else k} recommendations are: \\n\")\n",
        "for song in top_k:\n",
        "  print(f\"- {song[1]} by {song[2]} has a popularity of {song[3]}. You have listened to it {song[-1]} time(s)\")\n",
        "  print(f\"  Listen song at https://open.spotify.com/track/{song[0]}\")\n",
        "  print()"
      ],
      "metadata": {
        "colab": {
          "base_uri": "https://localhost:8080/"
        },
        "id": "uRTvhmqCcJZR",
        "outputId": "8aae581f-8111-4840-9d62-269b665cbba7"
      },
      "execution_count": 94,
      "outputs": [
        {
          "output_type": "stream",
          "name": "stdout",
          "text": [
            "How many songs do you want?10\n",
            "Our top 4 recommendations are: \n",
            "\n",
            "- Missing Photos by Last Days&124 has a popularity of 124. You have listened to it 3 time(s)\n",
            "  Listen song at https://open.spotify.com/track/1l3KYsTzEKQBpkHExOMR0d\n",
            "\n",
            "- Ever Be by Aaron Shust&8 has a popularity of 8. You have listened to it 3 time(s)\n",
            "  Listen song at https://open.spotify.com/track/0P8ANiSwsjYPx3zrmgN2Pv\n",
            "\n",
            "- Water From A Vine Leaf by William Orbit&68 has a popularity of 68. You have listened to it 2 time(s)\n",
            "  Listen song at https://open.spotify.com/track/00z9Rax2KTHqKLKYnGHzNk\n",
            "\n",
            "- orange by Quentin Sirjacq&84 has a popularity of 84. You have listened to it 1 time(s)\n",
            "  Listen song at https://open.spotify.com/track/5S1ARzZSleRh8VpbwsLdAk\n",
            "\n"
          ]
        }
      ]
    }
  ],
  "metadata": {
    "colab": {
      "collapsed_sections": [],
      "name": "Song_Recommender_new.ipynb",
      "provenance": []
    },
    "kernelspec": {
      "display_name": "Python 3",
      "name": "python3"
    },
    "language_info": {
      "name": "python"
    }
  },
  "nbformat": 4,
  "nbformat_minor": 0
}