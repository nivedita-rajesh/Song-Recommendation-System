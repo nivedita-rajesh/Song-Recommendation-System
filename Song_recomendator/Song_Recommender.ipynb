{
  "cells": [
    {
      "cell_type": "markdown",
      "metadata": {
        "id": "view-in-github",
        "colab_type": "text"
      },
      "source": [
        "<a href=\"https://colab.research.google.com/github/nivedita-rajesh/Song-Reccomendation-System/blob/main/Song_Recommender.ipynb\" target=\"_parent\"><img src=\"https://colab.research.google.com/assets/colab-badge.svg\" alt=\"Open In Colab\"/></a>"
      ]
    },
    {
      "cell_type": "markdown",
      "metadata": {
        "id": "X1gJYzPZYHS6"
      },
      "source": [
        "# Music Recommender System using Apache Spark and Python\n",
        "**Estimated time: 8hrs**\n",
        "\n",
        "## Description\n",
        "\n",
        "For this project, you are to create a recommender system that will recommend new musical artists to a user based on their listening history. Suggesting different songs or musical artists to a user is important to many music streaming services, such as Pandora and Spotify. In addition, this type of recommender system could also be used as a means of suggesting TV shows or movies to a user (e.g., Netflix). \n",
        "\n",
        "To create this system you will be using Spark and the collaborative filtering technique. The instructions for completing this project will be laid out entirely in this file. You will have to implement any missing code as well as answer any questions.\n",
        "\n",
        "**Submission Instructions:** \n",
        "* Add all of your updates to this IPython file and do not clear any of the output you get from running your code.\n",
        "* Upload this file onto moodle.\n",
        "\n",
        "## Datasets\n",
        "\n",
        "You will be using some publicly available song data from audioscrobbler, which can be found [here](http://www-etud.iro.umontreal.ca/~bergstrj/audioscrobbler_data.html). However, we modified the original data files so that the code will run in a reasonable time on a single machine. The reduced data files have been suffixed with `_small.txt` and contains only the information relevant to the top 50 most prolific users (highest artist play counts).\n",
        "\n",
        "The original data file `user_artist_data.txt` contained about 141,000 unique users, and 1.6 million unique artists. About 24.2 million users’ plays of artists are recorded, along with their count.\n",
        "\n",
        "Note that when plays are scribbled, the client application submits the name of the artist being played. This name could be misspelled or nonstandard, and this may only be detected later. For example, \"The Smiths\", \"Smiths, The\", and \"the smiths\" may appear as distinct artist IDs in the data set, even though they clearly refer to the same artist. So, the data set includes `artist_alias.txt`, which maps artist IDs that are known misspellings or variants to the canonical ID of that artist.\n",
        "\n",
        "The `artist_data.txt` file then provides a map from the canonical artist ID to the name of the artist."
      ]
    },
    {
      "cell_type": "markdown",
      "metadata": {
        "id": "2N2-fKfPYHTQ"
      },
      "source": [
        "## Necessary Package Imports"
      ]
    },
    {
      "cell_type": "code",
      "source": [
        "!pip install pyspark"
      ],
      "metadata": {
        "colab": {
          "base_uri": "https://localhost:8080/"
        },
        "id": "VIds5XS8U5UD",
        "outputId": "da9969dc-23b7-46be-84d9-9a5abe8cb874"
      },
      "execution_count": 1,
      "outputs": [
        {
          "output_type": "stream",
          "name": "stdout",
          "text": [
            "Looking in indexes: https://pypi.org/simple, https://us-python.pkg.dev/colab-wheels/public/simple/\n",
            "Requirement already satisfied: pyspark in /usr/local/lib/python3.7/dist-packages (3.2.1)\n",
            "Requirement already satisfied: py4j==0.10.9.3 in /usr/local/lib/python3.7/dist-packages (from pyspark) (0.10.9.3)\n"
          ]
        }
      ]
    },
    {
      "cell_type": "code",
      "execution_count": 2,
      "metadata": {
        "collapsed": true,
        "id": "k6GUAE7aYHTT"
      },
      "outputs": [],
      "source": [
        "from pyspark.mllib.recommendation import *\n",
        "import random\n",
        "from operator import *\n"
      ]
    },
    {
      "cell_type": "markdown",
      "metadata": {
        "id": "wJwYmFjOYHTY"
      },
      "source": [
        "## Loading data\n",
        "\n",
        "Load the three datasets into RDDs and name them `artistData`, `artistAlias`, and `userArtistData`. View the README, or the files themselves, to see how this data is formated. Some of the files have tab delimeters while some have space delimiters. Make sure that your `userArtistData` RDD contains only the canonical artist IDs."
      ]
    },
    {
      "cell_type": "code",
      "source": [
        "from pyspark import SparkContext\n",
        "sc = SparkContext()"
      ],
      "metadata": {
        "id": "d3_F7Y5WbCdt"
      },
      "execution_count": 3,
      "outputs": []
    },
    {
      "cell_type": "markdown",
      "source": [
        "#Our Project:\n",
        "when user listens to a song, the record in added to a file. That file is the dataset.\n",
        "we mapreduce it\n",
        "and then use it for recommendation"
      ],
      "metadata": {
        "id": "EcMEEodZSrQ2"
      }
    },
    {
      "cell_type": "markdown",
      "source": [
        "## MapReduce"
      ],
      "metadata": {
        "id": "2zCVl4n-SgBn"
      }
    },
    {
      "cell_type": "code",
      "source": [
        "#read from the user's listen history\n",
        "redundant_lst= [['3rMyMv8EjKXoPnaRo2hdJN', \"Stuntin' Like My Daddy - Street\", 'Birdman, Lil Wayne', '5', 'pop rap'],\n",
        "['6lV2MSQmRIkycDScNtrBXO', 'Airplanes (feat. Hayley Williams of Paramore)', 'B.o.B, Hayley Williams', '1', 'pop rap'],\n",
        "['4hrae8atte6cRlSC9a7VCO', 'Always On Time', 'Ja Rule, Ashanti', '2', 'pop rap'],\n",
        "['03tqyYWC9Um2ZqU0ZN849H', 'No Hands [feat. Roscoe Dash and Wale]', 'Waka Flocka Flame', '3', 'pop rap'],\n",
        "['66TRwr5uJwPt15mfFkzhbi', 'Crank That (Soulja Boy)', 'Soulja Boy', '4', 'pop rap'],\n",
        "['6t2ubAB4iSYOuIpRAOGd4t', 'Cake', 'Flo Rida, 99 Percent', '8', 'pop rap'],\n",
        "['6t2ubAB4iSYOuIpRAOGd4t', 'Cake', 'Flo Rida, 99 Percent', '8', 'pop rap'],\n",
        "['66TRwr5uJwPt15mfFkzhbi', 'Crank That (Soulja Boy)', 'Soulja Boy', '4', 'pop rap'],\n",
        "['66TRwr5uJwPt15mfFkzhbi', 'Crank That (Soulja Boy)', 'Soulja Boy', '4', 'pop rap'],\n",
        "['66TRwr5uJwPt15mfFkzhbi', 'Crank That (Soulja Boy)', 'Soulja Boy', '4', 'pop rap'],\n",
        "['3rMyMv8EjKXoPnaRo2hdJN', \"Stuntin' Like My Daddy - Street\", 'Birdman, Lil Wayne', '5', 'pop rap'],\n",
        "['3rMyMv8EjKXoPnaRo2hdJN', \"Stuntin' Like My Daddy - Street\", 'Birdman, Lil Wayne', '5', 'pop rap'],\n",
        "['3rMyMv8EjKXoPnaRo2hdJN', \"Stuntin' Like My Daddy - Street\", 'Birdman, Lil Wayne', '5', 'pop rap'],\n",
        "['7wqSzGeodspE3V6RBD5W8L', 'See You Again (feat. Charlie Puth)', 'Wiz Khalifa, Charlie Puth', '7', 'pop rap'],\n",
        "['6t2ubAB4iSYOuIpRAOGd4t', 'Cake', 'Flo Rida, 99 Percent', '8', 'pop rap'],\n",
        "['5IZc3KIVFhjzJ0L2kiXzUl', 'Promise', 'Kid Ink, Fetty Wap', '9', 'pop rap'],\n",
        "['3B7i9OKRRmIsSBHEbJz58Y', 'Grind With Me', 'Pretty Ricky', '10', 'pop rap'],\n",
        "['3tvWMBIblzT5FSjKtIeRR1', 'Whatever You Like', 'T.I.', '11', 'pop rap'],\n",
        "['1hWYT0w2R0J19rlVkiez7X', 'Battle Scars', 'Lupe Fiasco, Guy Sebastian', '12', 'pop rap'],\n",
        "['14B2bUopOga5V3ypld7d6n', 'Suga Suga', 'Baby Bash, Frankie J', '13', 'pop rap'],\n",
        "['3B7i9OKRRmIsSBHEbJz58Y', 'Grind With Me', 'Pretty Ricky', '10', 'pop rap'],\n",
        "['3B7i9OKRRmIsSBHEbJz58Y', 'Grind With Me', 'Pretty Ricky', '10', 'pop rap'],\n",
        "['14B2bUopOga5V3ypld7d6n', 'Suga Suga', 'Baby Bash, Frankie J', '13', 'pop rap'],\n",
        "['14B2bUopOga5V3ypld7d6n', 'Suga Suga', 'Baby Bash, Frankie J', '13', 'pop rap'],\n",
        "['14B2bUopOga5V3ypld7d6n', 'Suga Suga', 'Baby Bash, Frankie J', '13', 'pop rap'],\n",
        "['66TRwr5uJwPt15mfFkzhbi', 'Crank That (Soulja Boy)', 'Soulja Boy', '4', 'pop rap']\n",
        "]\n",
        "\n",
        "redundant_lst\n",
        "\n",
        "with open('dummy.txt','a') as f:\n",
        "  for i in redundant_lst:\n",
        "    f.write(str(i)+\"\\n\")\n"
      ],
      "metadata": {
        "id": "a3u5y_THUB0l"
      },
      "execution_count": 4,
      "outputs": []
    },
    {
      "cell_type": "code",
      "source": [
        "from pyspark.sql import SparkSession\n",
        "\n",
        "dummyData = sc.textFile(\"dummy.txt\")\n",
        "# a = dummyData.map(lambda x:(x,1)).reduceByKey(lambda x,y : x + y).collect()\n",
        "a = dummyData.map(lambda x:(x,1)).reduceByKey(lambda x,y : x + y).collect()\n",
        "\n",
        "\n",
        "fin_list = []\n",
        "\n",
        "for i in a:\n",
        "\n",
        "  res = i[0].strip('][').replace(\"'\",\"\").split(', ')\n",
        "  while res[4].isdigit():\n",
        "    res[2]+=\"&\"+res[3]\n",
        "    del res[3]\n",
        "  \n",
        "  res.append(i[1])\n",
        "  fin_list.append(res)\n",
        "\n",
        "\n",
        "schema = [\"spotify_id\",\"title\",\"artist(s)\",\"popularity\",\"genre\", \"count\"]\n",
        "\n",
        "rdd = sc.parallelize(fin_list)\n",
        "spark = SparkSession(sc)\n",
        "\n",
        "rdd.toDF(schema).show()"
      ],
      "metadata": {
        "id": "vAAx2PcZMQvA",
        "outputId": "0714193d-9117-4e4f-d7c4-aff5fd8204f8",
        "colab": {
          "base_uri": "https://localhost:8080/"
        }
      },
      "execution_count": 5,
      "outputs": [
        {
          "output_type": "stream",
          "name": "stdout",
          "text": [
            "+--------------------+--------------------+--------------------+----------+-------+-----+\n",
            "|          spotify_id|               title|           artist(s)|popularity|  genre|count|\n",
            "+--------------------+--------------------+--------------------+----------+-------+-----+\n",
            "|4hrae8atte6cRlSC9...|      Always On Time|     Ja Rule&Ashanti|         2|pop rap|    2|\n",
            "|03tqyYWC9Um2ZqU0Z...|No Hands [feat. R...|   Waka Flocka Flame|         3|pop rap|    2|\n",
            "|3B7i9OKRRmIsSBHEb...|       Grind With Me|        Pretty Ricky|        10|pop rap|    6|\n",
            "|1hWYT0w2R0J19rlVk...|        Battle Scars|Lupe Fiasco&Guy S...|        12|pop rap|    2|\n",
            "|14B2bUopOga5V3ypl...|           Suga Suga| Baby Bash&Frankie J|        13|pop rap|    8|\n",
            "|3rMyMv8EjKXoPnaRo...|\"Stuntin Like My ...|   Birdman&Lil Wayne|         5|pop rap|    8|\n",
            "|6lV2MSQmRIkycDScN...|Airplanes (feat. ...|B.o.B&Hayley Will...|         1|pop rap|    2|\n",
            "|66TRwr5uJwPt15mfF...|Crank That (Soulj...|          Soulja Boy|         4|pop rap|   10|\n",
            "|6t2ubAB4iSYOuIpRA...|                Cake| Flo Rida&99 Percent|         8|pop rap|    6|\n",
            "|7wqSzGeodspE3V6RB...|See You Again (fe...|Wiz Khalifa&Charl...|         7|pop rap|    2|\n",
            "|5IZc3KIVFhjzJ0L2k...|             Promise|   Kid Ink&Fetty Wap|         9|pop rap|    2|\n",
            "|3tvWMBIblzT5FSjKt...|   Whatever You Like|                T.I.|        11|pop rap|    2|\n",
            "+--------------------+--------------------+--------------------+----------+-------+-----+\n",
            "\n"
          ]
        }
      ]
    },
    {
      "cell_type": "code",
      "source": [
        "rdd.sortBy(lambda x:x[-1], ascending=False).toDF(schema).show()"
      ],
      "metadata": {
        "id": "PqziTt4Up1rR",
        "outputId": "bd708ec4-8c44-4a84-8132-b5edc49c36a3",
        "colab": {
          "base_uri": "https://localhost:8080/"
        }
      },
      "execution_count": 6,
      "outputs": [
        {
          "output_type": "stream",
          "name": "stdout",
          "text": [
            "+--------------------+--------------------+--------------------+----------+-------+-----+\n",
            "|          spotify_id|               title|           artist(s)|popularity|  genre|count|\n",
            "+--------------------+--------------------+--------------------+----------+-------+-----+\n",
            "|66TRwr5uJwPt15mfF...|Crank That (Soulj...|          Soulja Boy|         4|pop rap|   10|\n",
            "|14B2bUopOga5V3ypl...|           Suga Suga| Baby Bash&Frankie J|        13|pop rap|    8|\n",
            "|3rMyMv8EjKXoPnaRo...|\"Stuntin Like My ...|   Birdman&Lil Wayne|         5|pop rap|    8|\n",
            "|3B7i9OKRRmIsSBHEb...|       Grind With Me|        Pretty Ricky|        10|pop rap|    6|\n",
            "|6t2ubAB4iSYOuIpRA...|                Cake| Flo Rida&99 Percent|         8|pop rap|    6|\n",
            "|4hrae8atte6cRlSC9...|      Always On Time|     Ja Rule&Ashanti|         2|pop rap|    2|\n",
            "|03tqyYWC9Um2ZqU0Z...|No Hands [feat. R...|   Waka Flocka Flame|         3|pop rap|    2|\n",
            "|1hWYT0w2R0J19rlVk...|        Battle Scars|Lupe Fiasco&Guy S...|        12|pop rap|    2|\n",
            "|6lV2MSQmRIkycDScN...|Airplanes (feat. ...|B.o.B&Hayley Will...|         1|pop rap|    2|\n",
            "|7wqSzGeodspE3V6RB...|See You Again (fe...|Wiz Khalifa&Charl...|         7|pop rap|    2|\n",
            "|5IZc3KIVFhjzJ0L2k...|             Promise|   Kid Ink&Fetty Wap|         9|pop rap|    2|\n",
            "|3tvWMBIblzT5FSjKt...|   Whatever You Like|                T.I.|        11|pop rap|    2|\n",
            "+--------------------+--------------------+--------------------+----------+-------+-----+\n",
            "\n"
          ]
        }
      ]
    }
  ],
  "metadata": {
    "kernelspec": {
      "display_name": "Python 3",
      "name": "python3"
    },
    "language_info": {
      "name": "python"
    },
    "colab": {
      "name": "Song Recommender.ipynb",
      "provenance": [],
      "collapsed_sections": [],
      "include_colab_link": true
    }
  },
  "nbformat": 4,
  "nbformat_minor": 0
}